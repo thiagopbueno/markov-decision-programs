{
 "cells": [
  {
   "cell_type": "markdown",
   "metadata": {},
   "source": [
    "# Introduction to Probability Theory Using ProbLog"
   ]
  },
  {
   "cell_type": "markdown",
   "metadata": {
    "collapsed": true
   },
   "source": [
    "This notebook is intended to provide a soft introduction to the **ProbLog**'s probabilistic logic programming framework through the implementation of  basic concepts of **Probability Theory**. \n",
    "\n",
    "The official reference for the ProbLog2 system is available at [https://dtai.cs.kuleuven.be/problog/index.html](https://dtai.cs.kuleuven.be/problog/index.html).\n",
    "\n",
    "Documentation can be found at [http://problog.readthedocs.io](http://problog.readthedocs.io).\n",
    "\n",
    "This tutorial is organized as follows:\n",
    "1. [Installation](#1.-Installation)\n",
    "2. [Hello, ProbLog!](#2.-Hello,-ProbLog!)\n",
    "3. [Probability Theory](#3.-Probability-Theory)\n",
    "4. [Sampling](#4.-Sampling)\n"
   ]
  },
  {
   "cell_type": "markdown",
   "metadata": {},
   "source": [
    "## 1. Installation"
   ]
  },
  {
   "cell_type": "markdown",
   "metadata": {},
   "source": [
    "Installation of ProbLog2 framework is pretty easy using the pip tool:"
   ]
  },
  {
   "cell_type": "code",
   "execution_count": 1,
   "metadata": {},
   "outputs": [
    {
     "name": "stdout",
     "output_type": "stream",
     "text": [
      "Requirement already satisfied: problog in /usr/local/lib/python3.6/site-packages\r\n"
     ]
    }
   ],
   "source": [
    "!pip3 install problog"
   ]
  },
  {
   "cell_type": "markdown",
   "metadata": {},
   "source": [
    "To check the installation just enter the following command into the terminal:"
   ]
  },
  {
   "cell_type": "code",
   "execution_count": 2,
   "metadata": {},
   "outputs": [
    {
     "name": "stdout",
     "output_type": "stream",
     "text": [
      "2.1.0.18\r\n"
     ]
    }
   ],
   "source": [
    "!problog --version"
   ]
  },
  {
   "cell_type": "markdown",
   "metadata": {},
   "source": [
    "## 2. Hello, ProbLog!"
   ]
  },
  {
   "cell_type": "markdown",
   "metadata": {},
   "source": [
    "First of all, in order to access the ProbLog2's API we need to import some modules:"
   ]
  },
  {
   "cell_type": "code",
   "execution_count": 3,
   "metadata": {
    "collapsed": true
   },
   "outputs": [],
   "source": [
    "from problog.program import PrologString\n",
    "from problog import get_evaluatable"
   ]
  },
  {
   "cell_type": "markdown",
   "metadata": {},
   "source": [
    "The next thing to do is to define the probabilistic model. In this case, we'll use the ```PrologString``` function to create the model from a string. Later, we'll see how to build it from ProbLog's ```Term``` objects."
   ]
  },
  {
   "cell_type": "code",
   "execution_count": 4,
   "metadata": {
    "collapsed": true
   },
   "outputs": [],
   "source": [
    "model = PrologString(\n",
    "'''\n",
    "0.8::p.\n",
    "0.1::q.\n",
    "r :- not(p), q.\n",
    "evidence(q).\n",
    "query(r).\n",
    "'''\n",
    ")"
   ]
  },
  {
   "cell_type": "markdown",
   "metadata": {},
   "source": [
    "Finally, to run the model we need to build an evaluatable structure from our model and call its ```evaluate``` method."
   ]
  },
  {
   "cell_type": "code",
   "execution_count": 5,
   "metadata": {},
   "outputs": [
    {
     "data": {
      "text/plain": [
       "{r: 0.19999999999999998}"
      ]
     },
     "execution_count": 5,
     "metadata": {},
     "output_type": "execute_result"
    }
   ],
   "source": [
    "get_evaluatable().create_from(model).evaluate()"
   ]
  },
  {
   "cell_type": "markdown",
   "metadata": {},
   "source": [
    "In the rest of this tutorial, we shall use these helper functions:"
   ]
  },
  {
   "cell_type": "code",
   "execution_count": 6,
   "metadata": {
    "collapsed": true
   },
   "outputs": [],
   "source": [
    "def run(model_str):\n",
    "    model = PrologString(model_str)\n",
    "    print(get_evaluatable().create_from(model).evaluate())"
   ]
  },
  {
   "cell_type": "markdown",
   "metadata": {
    "collapsed": true
   },
   "source": [
    "## 3. Probability Theory"
   ]
  },
  {
   "cell_type": "markdown",
   "metadata": {},
   "source": [
    "### 3.1 Random Variables and Probabilistic Facts"
   ]
  },
  {
   "cell_type": "markdown",
   "metadata": {},
   "source": [
    "We start by one of the simplest concepts in probability theory: *random variables*.\n",
    "\n",
    "In ProbLog, we define boolean random variables through **probabilistic facts**. A probabilistic fact is simply a logical fact annotated with a probability measure that relates to the likelihood of the logical fact being true in a random world. We call this probability the **success probability** of the boolean random variable."
   ]
  },
  {
   "cell_type": "code",
   "execution_count": 7,
   "metadata": {},
   "outputs": [
    {
     "name": "stdout",
     "output_type": "stream",
     "text": [
      "{a: 0.65, b: 0.10000000000000002}\n"
     ]
    }
   ],
   "source": [
    "m1 = '''\n",
    "0.65::a.\n",
    "0.10::b.\n",
    "query(a).\n",
    "query(b).\n",
    "'''\n",
    "run(m1)"
   ]
  },
  {
   "cell_type": "markdown",
   "metadata": {},
   "source": [
    "### 3.2 Possible Worlds and Logical Rules"
   ]
  },
  {
   "cell_type": "markdown",
   "metadata": {},
   "source": [
    "Probabilistic facts are all independent of each other and a complete truth assignment to all of them in a ProbLog program defines a **possible world** with probability given by the product of the success probabilities of the facts that are true in the assignment and the failure probabilities of the facts that are false in the assignment.\n",
    "\n",
    "In order to compute the probability of a possible world we need to be able to compute the join probability of all probabilistic facts. The standard way to compute join probabiities is to use **logical rules**. A logical rule contains a **head** atom and a set of **body** atoms.\n",
    "\n",
    "Note how the model ```m2``` defines the atom ```w1``` representing a possible world in which both atoms ```a``` and ```b``` are true. The rule ```w1 :- a, b.``` has the atom ```w1``` as its head and the atoms ```a``` and ```b``` as body atoms."
   ]
  },
  {
   "cell_type": "code",
   "execution_count": 8,
   "metadata": {},
   "outputs": [
    {
     "name": "stdout",
     "output_type": "stream",
     "text": [
      "{w1: 0.06500000000000003}\n"
     ]
    }
   ],
   "source": [
    "m2 = '''\n",
    "0.65::a.\n",
    "0.10::b.\n",
    "w1 :- a, b.\n",
    "query(w1).\n",
    "'''\n",
    "run(m2)"
   ]
  },
  {
   "cell_type": "markdown",
   "metadata": {},
   "source": [
    "### 3.3 Negation"
   ]
  },
  {
   "cell_type": "markdown",
   "metadata": {},
   "source": [
    "So far, we've been able to compute the success probability of atoms. Nevertheless, one may be interested in computing the complementary probability of some random variables, which is sometimes called the **failure probability**. \n",
    "\n",
    "In order to compute the failure probability of a given random variable, we need to introduce the a fundamental concept: **negation**. In ProbLog (as in Logic Programming), negation is **negation as failure**, meaning that a literal of the form ```not(p)``` is only true if we cannot assert the truth of atom ```p``` given all the program's facts and background knowledge.\n",
    "\n",
    "Note that the model ```m3``` defines logical rules whose bodies contain negated atoms. This is the only way to compute the failure probability of logical atoms."
   ]
  },
  {
   "cell_type": "code",
   "execution_count": 9,
   "metadata": {},
   "outputs": [
    {
     "name": "stdout",
     "output_type": "stream",
     "text": [
      "{not_a: 0.3499999999999999, not_b: 0.9}\n"
     ]
    }
   ],
   "source": [
    "m3 = '''\n",
    "0.65::a.\n",
    "0.10::b.\n",
    "not_a :- not(a).\n",
    "not_b :- not(b).\n",
    "query(not_a).\n",
    "query(not_b).\n",
    "'''\n",
    "run(m3)"
   ]
  },
  {
   "cell_type": "markdown",
   "metadata": {},
   "source": [
    "With negation, we can now compute the whole joint distribution over logical atoms ```a``` and ```b```."
   ]
  },
  {
   "cell_type": "code",
   "execution_count": 10,
   "metadata": {},
   "outputs": [
    {
     "name": "stdout",
     "output_type": "stream",
     "text": [
      "{w1: 0.06500000000000003, w2: 0.585, w3: 0.035, w4: 0.31499999999999995}\n"
     ]
    }
   ],
   "source": [
    "m4 = '''\n",
    "0.65::a.\n",
    "0.10::b.\n",
    "w1 :- a, b.\n",
    "w2 :- a, not(b).\n",
    "w3 :- not(a), b.\n",
    "w4 :- not(a), not(b).\n",
    "query(w1).\n",
    "query(w2).\n",
    "query(w3).\n",
    "query(w4).\n",
    "'''\n",
    "run(m4)"
   ]
  },
  {
   "cell_type": "markdown",
   "metadata": {},
   "source": [
    "### 3.3 Conditional Probability and Probabilistic Rules"
   ]
  },
  {
   "cell_type": "markdown",
   "metadata": {},
   "source": [
    "In ProbLog, we can also define conditional probabilities using **probabilistic rules**. A probabilistic rule is a logical rule annotated with a probability. It can be shown that this is equivalent to defining an auxiliary (rather unique) probabilistic fact and adding it to the body of the original logical rule."
   ]
  },
  {
   "cell_type": "code",
   "execution_count": 11,
   "metadata": {},
   "outputs": [
    {
     "name": "stdout",
     "output_type": "stream",
     "text": [
      "{r: 0.6}\n"
     ]
    }
   ],
   "source": [
    "m5 = '''\n",
    "0.2::p.\n",
    "0.3::q.\n",
    "0.8::r :- p.\n",
    "0.6::r :- not(p), q.\n",
    "0.1::r :- not(p), not(q).\n",
    "evidence(p, false).\n",
    "evidence(q, true).\n",
    "query(r).\n",
    "'''\n",
    "run(m5)"
   ]
  },
  {
   "cell_type": "markdown",
   "metadata": {},
   "source": [
    "Model ```m5``` is equivalent to model ```m6```:"
   ]
  },
  {
   "cell_type": "code",
   "execution_count": 12,
   "metadata": {},
   "outputs": [
    {
     "name": "stdout",
     "output_type": "stream",
     "text": [
      "{r: 0.10000000000000002}\n"
     ]
    }
   ],
   "source": [
    "m6 = '''\n",
    "0.2::p.\n",
    "0.3::q.\n",
    "0.8::aux1.\n",
    "0.6::aux2.\n",
    "0.1::aux3.\n",
    "r :- p, aux1.\n",
    "r :- not(p), q, aux2.\n",
    "r :- not(p), not(q), aux3.\n",
    "evidence(p, false).\n",
    "evidence(q, false).\n",
    "query(r).\n",
    "'''\n",
    "run(m6)"
   ]
  },
  {
   "cell_type": "markdown",
   "metadata": {},
   "source": [
    "## 4. Sampling"
   ]
  },
  {
   "cell_type": "markdown",
   "metadata": {},
   "source": [
    "In addition to be able to solve inference tasks, ProbLog framework also allows sampling."
   ]
  },
  {
   "cell_type": "code",
   "execution_count": 13,
   "metadata": {},
   "outputs": [
    {
     "name": "stdout",
     "output_type": "stream",
     "text": [
      "Exact:\n",
      "{a: 0.8, b: 0.2, c: 0.15999999999999998}\n",
      "Approximate:\n",
      "{a: 0.784, b: 0.211, c: 0.169}\n"
     ]
    }
   ],
   "source": [
    "from problog.tasks import sample\n",
    "\n",
    "model = '''\n",
    "0.8::a.\n",
    "0.2::b.\n",
    "c :- a, b.\n",
    "query(a).\n",
    "query(b).\n",
    "query(c).\n",
    "'''\n",
    "print(\"Exact:\")\n",
    "run(model)\n",
    "\n",
    "result = list(sample.sample(PrologString(model), n=1000, format='dict'))\n",
    "count = { atom: 0 for atom in result[0].keys() }\n",
    "for model_sample in result:\n",
    "    for atom, value in model_sample.items():\n",
    "        count[atom] += int(value)\n",
    "estimates = { atom: positive / len(result) for atom, positive in count.items() }\n",
    "\n",
    "print(\"Approximate:\")\n",
    "print(estimates)"
   ]
  }
 ],
 "metadata": {
  "kernelspec": {
   "display_name": "Python 3",
   "language": "python",
   "name": "python3"
  },
  "language_info": {
   "codemirror_mode": {
    "name": "ipython",
    "version": 3
   },
   "file_extension": ".py",
   "mimetype": "text/x-python",
   "name": "python",
   "nbconvert_exporter": "python",
   "pygments_lexer": "ipython3",
   "version": "3.6.2"
  }
 },
 "nbformat": 4,
 "nbformat_minor": 2
}
