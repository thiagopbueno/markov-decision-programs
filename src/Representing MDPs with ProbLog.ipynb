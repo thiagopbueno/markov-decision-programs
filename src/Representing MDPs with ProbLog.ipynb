{
 "cells": [
  {
   "cell_type": "markdown",
   "metadata": {},
   "source": [
    "# Representing Markov Decision Processes with ProbLog"
   ]
  },
  {
   "cell_type": "markdown",
   "metadata": {},
   "source": [
    "This notebook aims at discussing how the probabilistic logic programming framework of **ProbLog** can be used to represent **discrete, fully observable, stationary MDPs**.\n",
    "\n",
    "We illustrate the overall approach by incrementally adding to the language the basic components that are necessary to precisely define Markovian transition functions and deterministic reward functions.\n",
    "\n",
    "For simplicity of presentation, we use as a running example a well-known domain from the probabilistic planning community (e.g., SysAdmin).\n",
    "\n",
    "We assume prior knowledge of the ProbLog language.\n",
    "If you're not familiar with the basics of the ProbLog API, please refer to *Introduction to Probability Theory Using ProbLog* tutorial. "
   ]
  },
  {
   "cell_type": "markdown",
   "metadata": {},
   "source": [
    "## 0. Imports & Helper Functions"
   ]
  },
  {
   "cell_type": "code",
   "execution_count": 1,
   "metadata": {
    "collapsed": true
   },
   "outputs": [],
   "source": [
    "from problog.program import PrologString\n",
    "from problog.logic   import Term, Constant\n",
    "from problog.engine  import DefaultEngine\n",
    "from problog import get_evaluatable\n",
    "\n",
    "import itertools\n",
    "\n",
    "engine = DefaultEngine()\n",
    "\n",
    "def precompile(model_str):\n",
    "    db = engine.prepare(PrologString(model_str))\n",
    "    return db\n",
    "\n",
    "def extend(db, model_str):\n",
    "    db2 = db.extend()\n",
    "    for statement in PrologString(model_str):\n",
    "        db2 += statement\n",
    "    return db2\n",
    "\n",
    "def evaluate(db):\n",
    "    return get_evaluatable().create_from(db).evaluate()\n",
    "\n",
    "def query(model, queries, evidence=None):\n",
    "    if isinstance(model, str):\n",
    "        db = precompile(model)\n",
    "    else:\n",
    "        db = model\n",
    "    if evidence is None:\n",
    "        evidence = []\n",
    "    lf = engine.ground_all(db, queries=queries, evidence=evidence)\n",
    "    return evaluate(lf)\n",
    "\n",
    "def run(model_str):\n",
    "    db = precompile(model_str)\n",
    "    return evaluate(db)\n",
    "\n",
    "\n",
    "# imports\n",
    "builtins = '''\n",
    ":- use_module(library(lists)).\n",
    ":- use_module(library(apply)).\n",
    "'''\n",
    "\n",
    "# database initialization\n",
    "db = precompile(builtins)\n",
    "\n",
    "\n",
    "# SysAdmin constant terms\n",
    "TMAX = 10\n",
    "timestep = Term('timestep')\n",
    "computer = Term('computer')\n",
    "c1 = Term('c1')\n",
    "c2 = Term('c2')\n",
    "c3 = Term('c3')\n",
    "t0 = Constant(0)\n",
    "t1 = Constant(1)\n",
    "computers = [c1, c2, c3]\n",
    "running = Term('running')\n",
    "reboot = Term('reboot')\n"
   ]
  },
  {
   "cell_type": "markdown",
   "metadata": {},
   "source": [
    "## 1. Timesteps, Fluents and State Space"
   ]
  },
  {
   "cell_type": "markdown",
   "metadata": {},
   "source": [
    "First things first! To model a SysAdmin problem we need to specify the computers and the network topology. We can do this in ProbLog simply defining a bunch of logical facts. Built-in Prolog lists can come in handy now!"
   ]
  },
  {
   "cell_type": "code",
   "execution_count": 2,
   "metadata": {
    "collapsed": true
   },
   "outputs": [],
   "source": [
    "topology = '''\n",
    "network([c1, c2, c3]).\n",
    "computer(c1). computer(c2). computer(c3).\n",
    "connected(c1, [c2, c3]).\n",
    "connected(c2, [c1]).\n",
    "connected(c3, [c1]).\n",
    "'''\n",
    "db = extend(db, topology)"
   ]
  },
  {
   "cell_type": "markdown",
   "metadata": {},
   "source": [
    "In order to represent the state of the network in a given timestep, we shall define a set of fluents (i.e., a temporal predicates) that specifies if each $computer$ is $running$ properly at time $T$.\n",
    "\n",
    "Also, we need to enconde the decision timesteps of the MDP. We do this by defining a predicates $timestep$ and $horizon$.\n",
    "\n",
    "In the example below we define random states for a finite horizon size $TMAX$."
   ]
  },
  {
   "cell_type": "code",
   "execution_count": 3,
   "metadata": {},
   "outputs": [
    {
     "name": "stdout",
     "output_type": "stream",
     "text": [
      "Timesteps:\n",
      "[timestep(0), timestep(1), timestep(2), timestep(3), timestep(4), timestep(5), timestep(6), timestep(7), timestep(8), timestep(9)]\n",
      "\n",
      "Fluents:\n",
      "{running(0,c1): 0.5, running(0,c2): 0.5, running(0,c3): 0.5}\n",
      "{running(1,c1): 0.5, running(1,c2): 0.5, running(1,c3): 0.5}\n",
      "{running(2,c1): 0.5, running(2,c2): 0.5, running(2,c3): 0.5}\n",
      "{running(3,c1): 0.5, running(3,c2): 0.5, running(3,c3): 0.5}\n",
      "{running(4,c1): 0.5, running(4,c2): 0.5, running(4,c3): 0.5}\n",
      "{running(5,c1): 0.5, running(5,c2): 0.5, running(5,c3): 0.5}\n",
      "{running(6,c1): 0.5, running(6,c2): 0.5, running(6,c3): 0.5}\n",
      "{running(7,c1): 0.5, running(7,c2): 0.5, running(7,c3): 0.5}\n",
      "{running(8,c1): 0.5, running(8,c2): 0.5, running(8,c3): 0.5}\n",
      "{running(9,c1): 0.5, running(9,c2): 0.5, running(9,c3): 0.5}\n",
      "\n"
     ]
    }
   ],
   "source": [
    "steps = '''\n",
    "horizon({0}).\n",
    "timestep(0).\n",
    "timestep(T) :- horizon(TMAX), T < TMAX, T2 is T-1, timestep(T2).\n",
    "'''.format(TMAX)\n",
    "\n",
    "db = extend(db, steps)\n",
    "timesteps = []\n",
    "for i in range(TMAX):\n",
    "    timesteps.append(timestep(Constant(i)))\n",
    "print('Timesteps:')\n",
    "print(list(query(db, queries=timesteps)))\n",
    "print()\n",
    "\n",
    "fluents = '''\n",
    "0.5::running(T, C) :- timestep(T), computer(C).\n",
    "'''\n",
    "db2 = extend(db, fluents)\n",
    "print(\"Fluents:\")\n",
    "for i in range(TMAX):\n",
    "    print(query(db2, queries=[running(Constant(i), None)]))\n",
    "print()"
   ]
  },
  {
   "cell_type": "markdown",
   "metadata": {},
   "source": [
    "## 2. Transition Model"
   ]
  },
  {
   "cell_type": "markdown",
   "metadata": {},
   "source": [
    "Before diving into the action space and the MDP transition model definitions, it is easier to start off by defining a simple Markov Chain that models the exogenous effects induced by the interaction of the computers connected together in the network."
   ]
  },
  {
   "cell_type": "markdown",
   "metadata": {},
   "source": [
    "### 2.1 State transition"
   ]
  },
  {
   "cell_type": "markdown",
   "metadata": {},
   "source": [
    "We define the Markov chain by specifying a prior distribution over the state variables at the initial $timestep$ and a conditional distribution for the state transition. We shall do this in a factored form as shown below.\n",
    "\n",
    "Note that for this example, we've chosen a uniform prior distribution."
   ]
  },
  {
   "cell_type": "code",
   "execution_count": 4,
   "metadata": {},
   "outputs": [
    {
     "name": "stdout",
     "output_type": "stream",
     "text": [
      "Initial state: [(running(0,c1), True), (running(0,c2), True), (running(0,c3), True)]\n",
      "Transition: {running(1,c1): 0.95, running(1,c2): 0.95, running(1,c3): 0.95}\n",
      "\n",
      "Initial state: [(running(0,c1), True), (running(0,c2), True), (running(0,c3), False)]\n",
      "Transition: {running(1,c1): 0.6999999999999998, running(1,c2): 0.95, running(1,c3): 0.05000000000000001}\n",
      "\n",
      "Initial state: [(running(0,c1), True), (running(0,c2), False), (running(0,c3), True)]\n",
      "Transition: {running(1,c1): 0.6999999999999998, running(1,c2): 0.05000000000000001, running(1,c3): 0.95}\n",
      "\n",
      "Initial state: [(running(0,c1), True), (running(0,c2), False), (running(0,c3), False)]\n",
      "Transition: {running(1,c1): 0.45000000000000007, running(1,c2): 0.05000000000000003, running(1,c3): 0.05000000000000003}\n",
      "\n",
      "Initial state: [(running(0,c1), False), (running(0,c2), True), (running(0,c3), True)]\n",
      "Transition: {running(1,c1): 0.05000000000000001, running(1,c2): 0.45, running(1,c3): 0.45}\n",
      "\n",
      "Initial state: [(running(0,c1), False), (running(0,c2), True), (running(0,c3), False)]\n",
      "Transition: {running(1,c1): 0.05000000000000003, running(1,c2): 0.45000000000000007, running(1,c3): 0.05000000000000003}\n",
      "\n",
      "Initial state: [(running(0,c1), False), (running(0,c2), False), (running(0,c3), True)]\n",
      "Transition: {running(1,c1): 0.05000000000000003, running(1,c2): 0.05000000000000003, running(1,c3): 0.45000000000000007}\n",
      "\n",
      "Initial state: [(running(0,c1), False), (running(0,c2), False), (running(0,c3), False)]\n",
      "Transition: {running(1,c1): 0.05000000000000001, running(1,c2): 0.05000000000000001, running(1,c3): 0.05000000000000001}\n",
      "\n"
     ]
    }
   ],
   "source": [
    "prior = '''\n",
    "0.5::running(0, C) :- computer(C).\n",
    "'''\n",
    "db3 = extend(db, prior)\n",
    "\n",
    "transition = '''\n",
    "0.05::running(Tnext, C) :- Tnext > 0, computer(C), T is Tnext - 1, not running(T, C).\n",
    "P::running(Tnext, C)    :- Tnext > 0, computer(C), T is Tnext - 1, running(T, C),\n",
    "                           connected(C, Ls), length(Ls, TC),\n",
    "                           include(running(T), Ls, Alive), length(Alive, TR),\n",
    "                           P is 0.45+0.50*TR/TC.\n",
    "'''\n",
    "db3 = extend(db3, transition)\n",
    "\n",
    "t1 = Constant(1)\n",
    "queries = [running(t1, c) for c in computers]\n",
    "\n",
    "t0 = Constant(0)\n",
    "for values in itertools.product(*[(True, False)]*3):\n",
    "    evidence = []\n",
    "    for c, val in zip(computers, values):\n",
    "        evidence.append((running(t0, c), val))\n",
    "    print(\"Initial state:\", evidence)\n",
    "    print(\"Transition:\", query(db3, queries, evidence))\n",
    "    print()\n"
   ]
  },
  {
   "cell_type": "markdown",
   "metadata": {},
   "source": [
    "### 2.2 Action space"
   ]
  },
  {
   "cell_type": "markdown",
   "metadata": {},
   "source": [
    "Right now we are almost in condition to specify the full MDP transition model. But first, we shall represent the action space of the SysAdmin domain.\n",
    "\n",
    "For this particular example, we won't allow any sort of action concurrency, meaning that no two computers can be rebooted at the same time. In order to capture this constraint, we have a number modeling options in ProbLog.\n",
    "\n",
    "If we know in advance the total number of computers in the network and we are satisfied with a more rigid model we can directly use annotated disjunctions to represent a multinomial distribution over the set of actions. Since in an MDP setting we almost always consider cases where the model is conditioned on a given action, any multinomial could be used. We stick to the uniform distribution for simplicity."
   ]
  },
  {
   "cell_type": "code",
   "execution_count": 5,
   "metadata": {},
   "outputs": [
    {
     "name": "stdout",
     "output_type": "stream",
     "text": [
      "{reboot(c1): 0.25, reboot(c2): 0.25, reboot(c3): 0.25, reboot(none): 0.25}\n"
     ]
    }
   ],
   "source": [
    "actions = '''\n",
    "1/4::reboot(c1);1/4::reboot(c2);1/4::reboot(c3);1/4::reboot(none).\n",
    "'''\n",
    "\n",
    "print(query(actions, queries=[reboot(None)]))"
   ]
  },
  {
   "cell_type": "markdown",
   "metadata": {},
   "source": [
    "If we do not know the number of computers in advance we can build a more flexible and still capture the non-concurrency property by defining constraints with the help of $evidence$."
   ]
  },
  {
   "cell_type": "code",
   "execution_count": 6,
   "metadata": {},
   "outputs": [
    {
     "name": "stdout",
     "output_type": "stream",
     "text": [
      "{reboot(c1): 0.5, reboot(c2): 0.5, reboot(c3): 0.5, reboot(none): 0.5}\n",
      "{reboot(c1): 0.25, reboot(c2): 0.25, reboot(c3): 0.25, reboot(none): 0.25}\n"
     ]
    }
   ],
   "source": [
    "actions = '''\n",
    "0.5::reboot(C) :- computer(C).\n",
    "0.5::reboot(none).\n",
    "\n",
    "concurrency :- reboot(C1), reboot(C2), C1 \\== C2.\n",
    "reboot :- reboot(X).\n",
    "'''\n",
    "db4 = extend(db, actions)\n",
    "print(query(db4, queries=[reboot(None)]))\n",
    "\n",
    "evidence = [(Term('concurrency'), False), (reboot(), True)]\n",
    "print(query(db4, queries=[reboot(None)], evidence=evidence))"
   ]
  },
  {
   "cell_type": "markdown",
   "metadata": {},
   "source": [
    "### 2.3 State-action transition"
   ]
  },
  {
   "cell_type": "markdown",
   "metadata": {},
   "source": [
    "With a convenient way to specify the action space, we can proceed to define the full state-action transition of the MDP for the SysAdmin problem."
   ]
  },
  {
   "cell_type": "code",
   "execution_count": 7,
   "metadata": {},
   "outputs": [
    {
     "name": "stdout",
     "output_type": "stream",
     "text": [
      "{running(1,c1): 0.5312499999999999, running(1,c2): 0.5312499999999999, running(1,c3): 0.5312499999999999}\n",
      "{running(1,c1): 0.7, running(1,c2): 0.95, running(1,c3): 1.0}\n"
     ]
    }
   ],
   "source": [
    "transition = '''\n",
    "0.5::running(0, C) :- computer(C).\n",
    "\n",
    "0.5::reboot(C) :- computer(C).\n",
    "0.5::reboot(none).\n",
    "\n",
    "concurrency :- reboot(C1), reboot(C2), C1 \\== C2.\n",
    "reboot :- reboot(X).\n",
    "\n",
    "running(Tnext, C) :- Tnext > 0, computer(C), reboot(C).\n",
    "0.05::running(Tnext, C) :- Tnext > 0, computer(C), T is Tnext - 1, not reboot(C), not running(T, C).\n",
    "P::running(Tnext, C)    :- Tnext > 0, computer(C), T is Tnext - 1, not reboot(C), running(T, C),\n",
    "                           connected(C, Ls), length(Ls, TC),\n",
    "                           include(running(T), Ls, Alive), length(Alive, TR),\n",
    "                           P is 0.45+0.50*TR/TC.\n",
    "'''\n",
    "db5 = extend(db, transition)\n",
    "evidence = [(Term('concurrency'), False), (reboot(), True)]\n",
    "print(query(db5, queries=[running(t1,None)], evidence=evidence))\n",
    "\n",
    "evidence += [(running(t0,c1), True), (running(t0,c2), True), (running(t0,c3), False)]\n",
    "evidence += [(reboot(c3), True)]\n",
    "print(query(db5, queries=[running(t1,None)], evidence=evidence))\n"
   ]
  }
 ],
 "metadata": {
  "kernelspec": {
   "display_name": "Python 3",
   "language": "python",
   "name": "python3"
  },
  "language_info": {
   "codemirror_mode": {
    "name": "ipython",
    "version": 3
   },
   "file_extension": ".py",
   "mimetype": "text/x-python",
   "name": "python",
   "nbconvert_exporter": "python",
   "pygments_lexer": "ipython3",
   "version": "3.6.2"
  }
 },
 "nbformat": 4,
 "nbformat_minor": 2
}
